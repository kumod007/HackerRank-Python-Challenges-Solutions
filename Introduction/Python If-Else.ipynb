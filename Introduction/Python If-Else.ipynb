{
 "cells": [
  {
   "cell_type": "markdown",
   "id": "e615e35c",
   "metadata": {},
   "source": [
    "## Problem Statement:"
   ]
  },
  {
   "cell_type": "markdown",
   "id": "cbe983a5",
   "metadata": {},
   "source": [
    "**Problem Link:** <a href=\"https://www.hackerrank.com/challenges/py-if-else/problem?isFullScreen=true\">Click here to visit the HackerRank Problem Page</a>"
   ]
  },
  {
   "cell_type": "markdown",
   "id": "458debce",
   "metadata": {},
   "source": [
    "**Task**\n",
    "\n",
    "* Given an integer, `n`, perform the following conditional actions:\n",
    "    * If `n` is odd, print Weird\n",
    "    * If `n` is even and in the inclusive range of **2 to 5**, print Not Weird\n",
    "    * If `n` is even and in the inclusive range of **6 to 20**, print Weird\n",
    "    * If `n` is even and greater than **20**, print Not Weird\n",
    "\n",
    "**Input Format**\n",
    "\n",
    "* A single line containing a positive integer.\n",
    "\n",
    "**Output Format**\n",
    "\n",
    "* Print Weird if the number is weird. Otherwise, print Not Weird.\n",
    "\n",
    "\n",
    "**Sample Input 1** = 3<br>\n",
    "**Sample Output 1** = Weird<br>\n",
    "**Explanation 1** = 3 is odd and odd numbers are weird, so print Weird.\n",
    "\n",
    "\n",
    "**Sample Input 2** = 24<br>\n",
    "**Sample Output 2** = Not Weird<br>\n",
    "**Explanation 2** = n >20 and n is even, so it is not weird."
   ]
  },
  {
   "cell_type": "markdown",
   "id": "821292d7",
   "metadata": {},
   "source": [
    "---"
   ]
  },
  {
   "cell_type": "markdown",
   "id": "73aa936a",
   "metadata": {},
   "source": [
    "### Solution 1: Using If-else Statement."
   ]
  },
  {
   "cell_type": "code",
   "execution_count": 2,
   "id": "4d571ca8",
   "metadata": {},
   "outputs": [
    {
     "name": "stdout",
     "output_type": "stream",
     "text": [
      "24\n",
      "Not Weird\n"
     ]
    }
   ],
   "source": [
    "n = int(input())\n",
    "\n",
    "if n%2!=0:\n",
    "    print(\"Weird\")\n",
    "else:\n",
    "    if (n>=2 and n<=5):\n",
    "        print(\"Not Weird\")\n",
    "    elif (n>=6 and n<=20):\n",
    "        print(\"Weird\")\n",
    "    else:\n",
    "        print(\"Not Weird\")"
   ]
  },
  {
   "cell_type": "markdown",
   "id": "ac6023b8",
   "metadata": {},
   "source": [
    "---"
   ]
  },
  {
   "cell_type": "markdown",
   "id": "082278f3",
   "metadata": {},
   "source": [
    "### Solution 2: Using nested ternary operators."
   ]
  },
  {
   "cell_type": "code",
   "execution_count": 5,
   "id": "ec21121e",
   "metadata": {},
   "outputs": [
    {
     "name": "stdout",
     "output_type": "stream",
     "text": [
      "3\n",
      "Weird\n"
     ]
    }
   ],
   "source": [
    "n = int(input())\n",
    "\n",
    "result = \"Weird\" if (n%2!=0) or (n>=6 and n<=20) else \"Not Weird\" if (n>=2 and n<=5) or (n>20) else \"\"\n",
    "\n",
    "print(result)"
   ]
  },
  {
   "cell_type": "markdown",
   "id": "cd75ed47",
   "metadata": {},
   "source": [
    "---"
   ]
  },
  {
   "cell_type": "markdown",
   "id": "a0c6798c",
   "metadata": {},
   "source": [
    "### Solution 3: Using a function."
   ]
  },
  {
   "cell_type": "code",
   "execution_count": 9,
   "id": "cf58749f",
   "metadata": {},
   "outputs": [],
   "source": [
    "def is_weird(n):\n",
    "    if n%2!=0:\n",
    "        return \"Weird\"\n",
    "    elif (n>=2 and n<=5):\n",
    "        return \"Not Weird\"\n",
    "    elif (n>=6 and n<=20):\n",
    "        return \"Weird\"\n",
    "    else:\n",
    "        return \"Not Weird\""
   ]
  },
  {
   "cell_type": "code",
   "execution_count": 10,
   "id": "c20c4187",
   "metadata": {},
   "outputs": [
    {
     "data": {
      "text/plain": [
       "'Weird'"
      ]
     },
     "execution_count": 10,
     "metadata": {},
     "output_type": "execute_result"
    }
   ],
   "source": [
    "is_weird(3)"
   ]
  },
  {
   "cell_type": "code",
   "execution_count": 11,
   "id": "66a492ff",
   "metadata": {},
   "outputs": [
    {
     "data": {
      "text/plain": [
       "'Not Weird'"
      ]
     },
     "execution_count": 11,
     "metadata": {},
     "output_type": "execute_result"
    }
   ],
   "source": [
    "is_weird(24)"
   ]
  },
  {
   "cell_type": "markdown",
   "id": "1e91fe64",
   "metadata": {},
   "source": [
    "---"
   ]
  }
 ],
 "metadata": {
  "kernelspec": {
   "display_name": "Python 3 (ipykernel)",
   "language": "python",
   "name": "python3"
  },
  "language_info": {
   "codemirror_mode": {
    "name": "ipython",
    "version": 3
   },
   "file_extension": ".py",
   "mimetype": "text/x-python",
   "name": "python",
   "nbconvert_exporter": "python",
   "pygments_lexer": "ipython3",
   "version": "3.9.12"
  }
 },
 "nbformat": 4,
 "nbformat_minor": 5
}
