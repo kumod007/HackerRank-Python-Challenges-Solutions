{
 "cells": [
  {
   "cell_type": "markdown",
   "id": "43ed7037",
   "metadata": {},
   "source": [
    "## Problem Statement:"
   ]
  },
  {
   "cell_type": "markdown",
   "id": "b8149c26",
   "metadata": {},
   "source": [
    "**Problem Link:** <a href=\"https://www.hackerrank.com/challenges/python-arithmetic-operators/problem?isFullScreen=true\">Click here to visit the HackerRank Problem Page</a>"
   ]
  },
  {
   "cell_type": "markdown",
   "id": "c8c01012",
   "metadata": {},
   "source": [
    "**Task**\n",
    "* The provided code stub reads two integers from STDIN, a and b. Add code to print three lines where:\n",
    "    1. The first line contains the sum of the two numbers.\n",
    "    2. The second line contains the difference of the two numbers (first - second).\n",
    "    3. The third line contains the product of the two numbers.\n",
    "\n",
    "**Example**\n",
    "* a => 3\n",
    "* b => 5\n",
    "\n",
    "**Print the following:**\n",
    "* 8\n",
    "* -2\n",
    "* 15\n",
    "\n",
    "\n",
    "**Input Format**\n",
    "\n",
    "* The first line contains the first integer,`a` .\n",
    "* The second line contains the second integer,`b` .\n",
    "\n",
    "**Output Format**\n",
    "* Print the three lines as explained above.\n",
    "\n",
    "**Sample Input 1** \n",
    "* 3\n",
    "* 2\n",
    "\n",
    "**Sample Output 1**\n",
    "\n",
    "* 5\n",
    "* 1\n",
    "* 6\n",
    "\n",
    "**Explanation 1**\n",
    "\n",
    "* 3 + 2 => 5\n",
    "* 3 - 2 => 1\n",
    "* 3 x 2 => 6"
   ]
  },
  {
   "cell_type": "markdown",
   "id": "f4453f32",
   "metadata": {},
   "source": [
    "---"
   ]
  },
  {
   "cell_type": "markdown",
   "id": "19230d0d",
   "metadata": {},
   "source": [
    "### Solution 1:"
   ]
  },
  {
   "cell_type": "code",
   "execution_count": 2,
   "id": "aabee03d",
   "metadata": {},
   "outputs": [
    {
     "name": "stdout",
     "output_type": "stream",
     "text": [
      "3\n",
      "2\n",
      "\n",
      "\n",
      "5\n",
      "1\n",
      "6\n"
     ]
    }
   ],
   "source": [
    "a = int(input())\n",
    "b = int(input())\n",
    "\n",
    "#print(\"\\n\")\n",
    "print(a+b)\n",
    "print(a-b)\n",
    "print(a*b)"
   ]
  },
  {
   "cell_type": "markdown",
   "id": "e165f335",
   "metadata": {},
   "source": [
    "---"
   ]
  },
  {
   "cell_type": "markdown",
   "id": "1b1c4dfc",
   "metadata": {},
   "source": [
    "### Solution 2:"
   ]
  },
  {
   "cell_type": "code",
   "execution_count": 5,
   "id": "73e56739",
   "metadata": {},
   "outputs": [
    {
     "name": "stdout",
     "output_type": "stream",
     "text": [
      "3\n",
      "2\n",
      "5\n",
      "1\n",
      "6\n"
     ]
    }
   ],
   "source": [
    "a = int(input())\n",
    "b = int(input())\n",
    "\n",
    "summ = a+b\n",
    "minus = a-b\n",
    "multiple = a*b\n",
    "\n",
    "print(f\"{summ}\\n{minus}\\n{multiple}\")"
   ]
  },
  {
   "cell_type": "markdown",
   "id": "9b536913",
   "metadata": {},
   "source": [
    "---"
   ]
  }
 ],
 "metadata": {
  "kernelspec": {
   "display_name": "Python 3 (ipykernel)",
   "language": "python",
   "name": "python3"
  },
  "language_info": {
   "codemirror_mode": {
    "name": "ipython",
    "version": 3
   },
   "file_extension": ".py",
   "mimetype": "text/x-python",
   "name": "python",
   "nbconvert_exporter": "python",
   "pygments_lexer": "ipython3",
   "version": "3.9.12"
  }
 },
 "nbformat": 4,
 "nbformat_minor": 5
}
