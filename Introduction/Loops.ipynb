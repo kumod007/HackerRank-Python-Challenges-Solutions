{
 "cells": [
  {
   "cell_type": "markdown",
   "id": "cbc91a0b",
   "metadata": {},
   "source": [
    "## Problem Statement:"
   ]
  },
  {
   "cell_type": "markdown",
   "id": "56d91099",
   "metadata": {},
   "source": [
    "**Problem Link:** <a href=\"https://www.hackerrank.com/challenges/python-loops/problem?isFullScreen=true\">Click here to visit the HackerRank Problem Page</a>\n"
   ]
  },
  {
   "cell_type": "markdown",
   "id": "21fd3195",
   "metadata": {},
   "source": [
    "**Task**\n",
    "* The provided code stub reads and integer,`n` , from STDIN. For all non-negative integers `i< n`, print `i2`.\n",
    "\n",
    "**Example**\n",
    "\n",
    "* The list of non-negative integers that are less than `n=3` is `[0,1,2]`. \n",
    "* Print the square of each number on a separate line.\n",
    "\n",
    "* 0\n",
    "* 1\n",
    "* 4\n",
    "\n",
    "\n",
    "**Input Format**\n",
    "\n",
    "* The first and only line contains the integer,`n` .\n",
    "\n",
    "**Output Format**\n",
    "\n",
    "* Print `n` lines, one corresponding to each `i`.\n",
    "\n",
    "**Sample Input 1** = 5\n",
    "**Sample Output 1**\n",
    "\n",
    "* 0\n",
    "* 1\n",
    "* 4\n",
    "* 9\n",
    "* 16"
   ]
  },
  {
   "cell_type": "markdown",
   "id": "d87c63c1",
   "metadata": {},
   "source": [
    "---"
   ]
  },
  {
   "cell_type": "markdown",
   "id": "0829c590",
   "metadata": {},
   "source": [
    "### Solution 1: Using For Loop"
   ]
  },
  {
   "cell_type": "code",
   "execution_count": 3,
   "id": "53c20ef2",
   "metadata": {},
   "outputs": [
    {
     "name": "stdout",
     "output_type": "stream",
     "text": [
      "5\n",
      "0\n",
      "1\n",
      "4\n",
      "9\n",
      "16\n"
     ]
    }
   ],
   "source": [
    "n = int(input())\n",
    "\n",
    "for i in range(n):\n",
    "    print(i**2)"
   ]
  },
  {
   "cell_type": "markdown",
   "id": "0e13e144",
   "metadata": {},
   "source": [
    "---"
   ]
  },
  {
   "cell_type": "markdown",
   "id": "d2be7a66",
   "metadata": {},
   "source": [
    "### Solution 2: Using While Loop"
   ]
  },
  {
   "cell_type": "code",
   "execution_count": 5,
   "id": "16f8c9d1",
   "metadata": {},
   "outputs": [
    {
     "name": "stdout",
     "output_type": "stream",
     "text": [
      "5\n",
      "0\n",
      "1\n",
      "4\n",
      "9\n",
      "16\n"
     ]
    }
   ],
   "source": [
    "n = int(input())\n",
    "i = 0\n",
    "\n",
    "while i<n:\n",
    "    print(i*i)\n",
    "    i+=1"
   ]
  },
  {
   "cell_type": "markdown",
   "id": "2c3bea3c",
   "metadata": {},
   "source": [
    "---"
   ]
  },
  {
   "cell_type": "markdown",
   "id": "43f7ee9a",
   "metadata": {},
   "source": [
    "### Solution 3: Using List Comphrehension"
   ]
  },
  {
   "cell_type": "code",
   "execution_count": 7,
   "id": "d14eee6b",
   "metadata": {},
   "outputs": [
    {
     "name": "stdout",
     "output_type": "stream",
     "text": [
      "5\n",
      "0\n",
      "1\n",
      "4\n",
      "9\n",
      "16\n"
     ]
    }
   ],
   "source": [
    "n = int(input())\n",
    "\n",
    "squares = [i*i for i in range(n)]\n",
    "\n",
    "for i in squares:\n",
    "    print(i)"
   ]
  },
  {
   "cell_type": "markdown",
   "id": "ce736729",
   "metadata": {},
   "source": [
    "---"
   ]
  },
  {
   "cell_type": "markdown",
   "id": "67388570",
   "metadata": {},
   "source": [
    "### Solution 4: Using Lambda Function"
   ]
  },
  {
   "cell_type": "code",
   "execution_count": 9,
   "id": "5944449a",
   "metadata": {},
   "outputs": [
    {
     "name": "stdout",
     "output_type": "stream",
     "text": [
      "5\n",
      "0\n",
      "1\n",
      "4\n",
      "9\n",
      "16\n"
     ]
    }
   ],
   "source": [
    "n = int(input())\n",
    "\n",
    "squares = map(lambda x: x*x, list(range(n)))\n",
    "\n",
    "for i in squares:\n",
    "    print(i)"
   ]
  },
  {
   "cell_type": "markdown",
   "id": "3199fe75",
   "metadata": {},
   "source": [
    "---"
   ]
  }
 ],
 "metadata": {
  "kernelspec": {
   "display_name": "Python 3 (ipykernel)",
   "language": "python",
   "name": "python3"
  },
  "language_info": {
   "codemirror_mode": {
    "name": "ipython",
    "version": 3
   },
   "file_extension": ".py",
   "mimetype": "text/x-python",
   "name": "python",
   "nbconvert_exporter": "python",
   "pygments_lexer": "ipython3",
   "version": "3.9.12"
  }
 },
 "nbformat": 4,
 "nbformat_minor": 5
}
