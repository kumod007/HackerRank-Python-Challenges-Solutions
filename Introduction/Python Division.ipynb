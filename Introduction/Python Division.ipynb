{
 "cells": [
  {
   "cell_type": "markdown",
   "id": "944904bd",
   "metadata": {},
   "source": [
    "### Problem Statement:"
   ]
  },
  {
   "cell_type": "markdown",
   "id": "a94d3086",
   "metadata": {},
   "source": [
    "**Problem Link:** <a href=\"https://www.hackerrank.com/challenges/python-division/problem?isFullScreen=true\">Click here to visit the HackerRank Problem Page</a>"
   ]
  },
  {
   "cell_type": "markdown",
   "id": "9e783d29",
   "metadata": {},
   "source": [
    "**Task**\n",
    "* The provided code stub reads two integers, a and b, from STDIN.\n",
    "* Add logic to print two lines. The first line should contain the result of integer division, `a // b`.\n",
    "* The second line should contain the result of float division, `a / b`.\n",
    "* No rounding or formatting is necessary.\n",
    "\n",
    "**Example**\n",
    "* a = 3\n",
    "* b = 5\n",
    "* The result of the integer division 3//5 = 0 .\n",
    "* The result of the float division is 3/5 = 0.6.\n",
    "\n",
    "**Print:**\n",
    "* 0\n",
    "* 0.6\n",
    "\n",
    "**Input Format**\n",
    "\n",
    "* The first line contains the first integer,a.\n",
    "* The second line contains the second integer,b.\n",
    "\n",
    "**Output Format**\n",
    "\n",
    "* Print the two lines as described above.\n",
    "\n",
    "**Sample Input 1**\n",
    "\n",
    "* 4\n",
    "* 3\n",
    "\n",
    "**Sample Output 1**\n",
    "\n",
    "* 1\n",
    "* 1.33333333333"
   ]
  },
  {
   "cell_type": "markdown",
   "id": "1dfa0d7b",
   "metadata": {},
   "source": [
    "---"
   ]
  },
  {
   "cell_type": "markdown",
   "id": "53c6aa4b",
   "metadata": {},
   "source": [
    "### Solution 1:"
   ]
  },
  {
   "cell_type": "code",
   "execution_count": 3,
   "id": "f42d7f64",
   "metadata": {},
   "outputs": [
    {
     "name": "stdout",
     "output_type": "stream",
     "text": [
      "4\n",
      "3\n",
      "\n",
      "\n",
      "1\n",
      "1.3333333333333333\n"
     ]
    }
   ],
   "source": [
    "a = int(input())\n",
    "b = int(input())\n",
    "\n",
    "#print(\"\\n\")\n",
    "print(a//b)\n",
    "print(a/b)"
   ]
  },
  {
   "cell_type": "markdown",
   "id": "0e836db2",
   "metadata": {},
   "source": [
    "---"
   ]
  },
  {
   "cell_type": "markdown",
   "id": "c9db4e58",
   "metadata": {},
   "source": [
    "### Solution 2:"
   ]
  },
  {
   "cell_type": "code",
   "execution_count": 4,
   "id": "b84daff7",
   "metadata": {},
   "outputs": [
    {
     "name": "stdout",
     "output_type": "stream",
     "text": [
      "4\n",
      "3\n",
      "1\n",
      "1.3333333333333333\n"
     ]
    }
   ],
   "source": [
    "a = int(input())\n",
    "b = int(input())\n",
    "\n",
    "int_div = a//b\n",
    "float_div = a/b\n",
    "\n",
    "print(f\"{int_div}\\n{float_div}\")"
   ]
  },
  {
   "cell_type": "markdown",
   "id": "cb2fa3c6",
   "metadata": {},
   "source": [
    "---"
   ]
  }
 ],
 "metadata": {
  "kernelspec": {
   "display_name": "Python 3 (ipykernel)",
   "language": "python",
   "name": "python3"
  },
  "language_info": {
   "codemirror_mode": {
    "name": "ipython",
    "version": 3
   },
   "file_extension": ".py",
   "mimetype": "text/x-python",
   "name": "python",
   "nbconvert_exporter": "python",
   "pygments_lexer": "ipython3",
   "version": "3.9.12"
  }
 },
 "nbformat": 4,
 "nbformat_minor": 5
}
