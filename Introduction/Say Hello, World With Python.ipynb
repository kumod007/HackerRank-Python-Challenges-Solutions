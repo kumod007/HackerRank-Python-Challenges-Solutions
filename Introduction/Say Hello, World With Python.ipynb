{
 "cells": [
  {
   "cell_type": "markdown",
   "id": "9c80396c",
   "metadata": {},
   "source": [
    "## Problem Statement:"
   ]
  },
  {
   "cell_type": "markdown",
   "id": "a6c08402",
   "metadata": {},
   "source": [
    "**Problem Link:** <a href=\"https://www.hackerrank.com/challenges/py-hello-world/problem?isFullScreen=true\">Click here to visit the HackerRank Problem Page</a>\n"
   ]
  },
  {
   "cell_type": "markdown",
   "id": "8698e355",
   "metadata": {},
   "source": [
    "**Input Format**\n",
    "\n",
    "* You do not need to read any input in this challenge.\n",
    "\n",
    "**Output Format**\n",
    "\n",
    "* Print Hello, World! to stdout.\n",
    "\n",
    "**Sample Output 0**\n",
    "\n",
    "* Hello, World!"
   ]
  },
  {
   "cell_type": "markdown",
   "id": "662318ea",
   "metadata": {},
   "source": [
    "---"
   ]
  },
  {
   "cell_type": "markdown",
   "id": "a1b12127",
   "metadata": {},
   "source": [
    "### Solution 1:"
   ]
  },
  {
   "cell_type": "code",
   "execution_count": 1,
   "id": "89adc697",
   "metadata": {},
   "outputs": [
    {
     "name": "stdout",
     "output_type": "stream",
     "text": [
      "Hello, World!\n"
     ]
    }
   ],
   "source": [
    "print(\"Hello, World!\")"
   ]
  },
  {
   "cell_type": "markdown",
   "id": "da18089e",
   "metadata": {},
   "source": [
    "---"
   ]
  },
  {
   "cell_type": "markdown",
   "id": "75ec9bbb",
   "metadata": {},
   "source": [
    "### Solution 2:"
   ]
  },
  {
   "cell_type": "code",
   "execution_count": 2,
   "id": "ff5127ca",
   "metadata": {},
   "outputs": [
    {
     "name": "stdout",
     "output_type": "stream",
     "text": [
      "Hello, World!\n"
     ]
    }
   ],
   "source": [
    "my_string = \"Hello, World!\"\n",
    "print(my_string)"
   ]
  },
  {
   "cell_type": "markdown",
   "id": "fc36e09c",
   "metadata": {},
   "source": [
    "---"
   ]
  }
 ],
 "metadata": {
  "kernelspec": {
   "display_name": "Python 3 (ipykernel)",
   "language": "python",
   "name": "python3"
  },
  "language_info": {
   "codemirror_mode": {
    "name": "ipython",
    "version": 3
   },
   "file_extension": ".py",
   "mimetype": "text/x-python",
   "name": "python",
   "nbconvert_exporter": "python",
   "pygments_lexer": "ipython3",
   "version": "3.9.12"
  }
 },
 "nbformat": 4,
 "nbformat_minor": 5
}
