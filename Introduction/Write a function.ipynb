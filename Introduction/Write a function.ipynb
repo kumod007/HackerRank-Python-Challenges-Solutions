{
 "cells": [
  {
   "cell_type": "markdown",
   "id": "0e39220f",
   "metadata": {},
   "source": [
    "## Problem Statement:"
   ]
  },
  {
   "cell_type": "markdown",
   "id": "fcb69dd2",
   "metadata": {},
   "source": [
    "**Problem Link:** <a href=\"https://www.hackerrank.com/challenges/write-a-function/problem?isFullScreen=true\">Click here to visit the HackerRank Problem Page</a>\n"
   ]
  },
  {
   "cell_type": "markdown",
   "id": "dbce8f9a",
   "metadata": {},
   "source": [
    "**Task**\n",
    "* Given a year, determine whether it is a leap year. \n",
    "* If it is a leap year, return the Boolean True, otherwise return False.\n",
    "* Note that the code stub provided reads from STDIN and passes arguments to the is_leap function. It is only necessary to complete the is_leap function.\n",
    "\n",
    "\n",
    "**Input Format**\n",
    "\n",
    "**Read year, the year to test.**\n",
    "\n",
    "**Output Format**\n",
    "\n",
    "* The function must return a Boolean value (True/False). Output is handled by the provided code stub.\n",
    "\n",
    "**Sample Input 1** = 1990<br>\n",
    "**Sample Output 1** = False<br>\n",
    "**Explanation 1** = 1990 is not a multiple of 4 hence it's not a leap year."
   ]
  },
  {
   "cell_type": "markdown",
   "id": "02df760f",
   "metadata": {},
   "source": [
    "---"
   ]
  },
  {
   "cell_type": "markdown",
   "id": "d5c1a77c",
   "metadata": {},
   "source": [
    "### Soltion 1:"
   ]
  },
  {
   "cell_type": "code",
   "execution_count": 1,
   "id": "256564ce",
   "metadata": {},
   "outputs": [
    {
     "name": "stdout",
     "output_type": "stream",
     "text": [
      "1990\n",
      "False\n"
     ]
    }
   ],
   "source": [
    "year = int(input())\n",
    "\n",
    "if year%4==0 and (year%100 !=0 or year%400 ==0):\n",
    "    print(True)\n",
    "else:\n",
    "    print(\"False\")"
   ]
  },
  {
   "cell_type": "markdown",
   "id": "eccae7a4",
   "metadata": {},
   "source": [
    "---"
   ]
  },
  {
   "cell_type": "markdown",
   "id": "8f0d4696",
   "metadata": {},
   "source": [
    "### Solution 2:"
   ]
  },
  {
   "cell_type": "code",
   "execution_count": 2,
   "id": "84ca6d6c",
   "metadata": {},
   "outputs": [],
   "source": [
    "def is_leap(year):\n",
    "    if year % 4 == 0 and (year % 100 != 0 or year % 400 == 0):\n",
    "        return True\n",
    "    else:\n",
    "        return False"
   ]
  },
  {
   "cell_type": "code",
   "execution_count": 3,
   "id": "6c72210f",
   "metadata": {},
   "outputs": [
    {
     "data": {
      "text/plain": [
       "False"
      ]
     },
     "execution_count": 3,
     "metadata": {},
     "output_type": "execute_result"
    }
   ],
   "source": [
    "is_leap(1990)"
   ]
  },
  {
   "cell_type": "code",
   "execution_count": 4,
   "id": "8a2fc365",
   "metadata": {},
   "outputs": [
    {
     "data": {
      "text/plain": [
       "True"
      ]
     },
     "execution_count": 4,
     "metadata": {},
     "output_type": "execute_result"
    }
   ],
   "source": [
    "is_leap(2000)"
   ]
  },
  {
   "cell_type": "markdown",
   "id": "0a629cd2",
   "metadata": {},
   "source": [
    "---"
   ]
  }
 ],
 "metadata": {
  "kernelspec": {
   "display_name": "Python 3 (ipykernel)",
   "language": "python",
   "name": "python3"
  },
  "language_info": {
   "codemirror_mode": {
    "name": "ipython",
    "version": 3
   },
   "file_extension": ".py",
   "mimetype": "text/x-python",
   "name": "python",
   "nbconvert_exporter": "python",
   "pygments_lexer": "ipython3",
   "version": "3.9.12"
  }
 },
 "nbformat": 4,
 "nbformat_minor": 5
}
