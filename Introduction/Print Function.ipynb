{
 "cells": [
  {
   "cell_type": "markdown",
   "id": "5d9e2fce",
   "metadata": {},
   "source": [
    "## Problem Statement:"
   ]
  },
  {
   "cell_type": "markdown",
   "id": "38253740",
   "metadata": {},
   "source": [
    "**Problem Link:** <a href=\"https://www.hackerrank.com/challenges/python-print/problem?isFullScreen=true\">Click here to visit the HackerRank Problem Page</a>"
   ]
  },
  {
   "cell_type": "markdown",
   "id": "dd19e607",
   "metadata": {},
   "source": [
    "**Task**\n",
    "* The included code stub will read an integer,`n`, from STDIN.\n",
    "* Without using any string methods, try to print the following: `123...n`.\n",
    "* Note that \"\" represents the consecutive values in between.\n",
    "\n",
    "**Example**\n",
    "\n",
    "* n = 5\n",
    "* Print the string `12345`.\n",
    "\n",
    "**Input Format**\n",
    "\n",
    "* The first line contains an integer `n` .\n",
    "\n",
    "**Output Format**\n",
    "\n",
    "* Print the list of integers from `1` through `n` as a string, without spaces.\n",
    "\n",
    "**Sample Input 1** = 3<br>\n",
    "**Sample Output 1** = 123"
   ]
  },
  {
   "cell_type": "markdown",
   "id": "dc80e10c",
   "metadata": {},
   "source": [
    "---"
   ]
  },
  {
   "cell_type": "markdown",
   "id": "8503c44a",
   "metadata": {},
   "source": [
    "### Solution 1:"
   ]
  },
  {
   "cell_type": "code",
   "execution_count": 3,
   "id": "86a32e02",
   "metadata": {},
   "outputs": [
    {
     "name": "stdout",
     "output_type": "stream",
     "text": [
      "5\n",
      "12345"
     ]
    }
   ],
   "source": [
    "n = int(input())\n",
    "\n",
    "for i in range(1,n+1):\n",
    "    print(i,end=\"\")"
   ]
  },
  {
   "cell_type": "markdown",
   "id": "e58d4f49",
   "metadata": {},
   "source": [
    "---"
   ]
  },
  {
   "cell_type": "markdown",
   "id": "8ec686d8",
   "metadata": {},
   "source": [
    "### Solution 2:"
   ]
  },
  {
   "cell_type": "code",
   "execution_count": 5,
   "id": "1f880cb3",
   "metadata": {},
   "outputs": [
    {
     "name": "stdout",
     "output_type": "stream",
     "text": [
      "5\n",
      "12345\n"
     ]
    }
   ],
   "source": [
    "n = int(input())\n",
    "nums = list(range(1, n+1))\n",
    "\n",
    "result = \"\".join(map(str, nums))\n",
    "\n",
    "print(result)"
   ]
  },
  {
   "cell_type": "markdown",
   "id": "a2b3cfd7",
   "metadata": {},
   "source": [
    "---"
   ]
  }
 ],
 "metadata": {
  "kernelspec": {
   "display_name": "Python 3 (ipykernel)",
   "language": "python",
   "name": "python3"
  },
  "language_info": {
   "codemirror_mode": {
    "name": "ipython",
    "version": 3
   },
   "file_extension": ".py",
   "mimetype": "text/x-python",
   "name": "python",
   "nbconvert_exporter": "python",
   "pygments_lexer": "ipython3",
   "version": "3.9.12"
  }
 },
 "nbformat": 4,
 "nbformat_minor": 5
}
