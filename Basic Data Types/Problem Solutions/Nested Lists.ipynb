{
 "cells": [
  {
   "cell_type": "markdown",
   "id": "b03dba3d",
   "metadata": {},
   "source": [
    "<h1 style=\"font-family: Georgia, serif; text-align: center;\">Problem Statement</h1>\n"
   ]
  },
  {
   "cell_type": "markdown",
   "id": "6fd29682",
   "metadata": {},
   "source": [
    "<img src=\"https://github.com/kumod007/HackerRank-Python-Challenges-Solutions/blob/main/Basic%20Data%20Types/Problem%20Statements/Nested-List.png?raw=true\" alt=\"Example Image\">\n"
   ]
  },
  {
   "cell_type": "markdown",
   "id": "5e584b9a",
   "metadata": {},
   "source": [
    "---"
   ]
  },
  {
   "cell_type": "markdown",
   "id": "d9cc0aef",
   "metadata": {},
   "source": [
    "## Solution 1: Using List Comphrehension"
   ]
  },
  {
   "cell_type": "code",
   "execution_count": 46,
   "id": "2f3af700",
   "metadata": {},
   "outputs": [
    {
     "name": "stdout",
     "output_type": "stream",
     "text": [
      "5\n",
      "Harry\n",
      "37.21\n",
      "Berry\n",
      "37.21\n",
      "Tina\n",
      "37.2\n",
      "Akriti\n",
      "41\n",
      "Harsh\n",
      "39\n",
      "Berry\n",
      "Harry\n"
     ]
    }
   ],
   "source": [
    "n = int(input())\n",
    "\n",
    "#Taking inputs for student's names and marks.\n",
    "report = [[str(input()),float(input())] for i in range(n)]\n",
    "\n",
    "#Sorting the report nested list with respect to second element.(i.e marks values)\n",
    "report.sort(key=lambda x:x[1])\n",
    "\n",
    "##Lowest marks\n",
    "lowest = report[0][1]\n",
    "\n",
    "##Finding Second Lowest Marks\n",
    "second_lowest = [i[1] for i in report if i[1]!=lowest][0]\n",
    "\n",
    "##Finding student's names with second lowest marks.\n",
    "names = [ i[0] for i in report if i[1]==second_lowest]\n",
    "\n",
    "##Sorting and printing names\n",
    "for i in sorted(names):\n",
    "    print(i)"
   ]
  },
  {
   "cell_type": "markdown",
   "id": "154a42d6",
   "metadata": {},
   "source": [
    "---"
   ]
  },
  {
   "cell_type": "markdown",
   "id": "29674dbb",
   "metadata": {},
   "source": [
    "## Solution 2: Using For Loops."
   ]
  },
  {
   "cell_type": "code",
   "execution_count": 2,
   "id": "f371b16a",
   "metadata": {},
   "outputs": [
    {
     "name": "stdout",
     "output_type": "stream",
     "text": [
      "5\n",
      "Harry\n",
      "37.21\n",
      "Berry\n",
      "37.21\n",
      "Tina\n",
      "37.2\n",
      "Akriti\n",
      "41\n",
      "Harsh\n",
      "39\n"
     ]
    }
   ],
   "source": [
    "n = int(input())\n",
    "report = []\n",
    "\n",
    "for i in range(n):\n",
    "    name = str(input())\n",
    "    marks = float(input())\n",
    "    report.append([name,marks])\n",
    "    "
   ]
  },
  {
   "cell_type": "code",
   "execution_count": 10,
   "id": "341fcc99",
   "metadata": {},
   "outputs": [],
   "source": [
    "lowest = report[0][1]\n",
    "\n",
    "for i in report:\n",
    "    if i[1]<lowest:\n",
    "        lowest = i[1]\n",
    "    else:\n",
    "        continue"
   ]
  },
  {
   "cell_type": "code",
   "execution_count": 11,
   "id": "920bd7c8",
   "metadata": {},
   "outputs": [
    {
     "data": {
      "text/plain": [
       "37.2"
      ]
     },
     "execution_count": 11,
     "metadata": {},
     "output_type": "execute_result"
    }
   ],
   "source": [
    "lowest"
   ]
  },
  {
   "cell_type": "code",
   "execution_count": 12,
   "id": "d6711f9c",
   "metadata": {},
   "outputs": [],
   "source": [
    "second_lowest = report[0][1]\n",
    "\n",
    "for i in report:\n",
    "    if i[1]==second_lowest:\n",
    "        continue\n",
    "    elif i[1]<lowest:\n",
    "        lowest = i[1]\n",
    "    else:\n",
    "        continue"
   ]
  },
  {
   "cell_type": "code",
   "execution_count": 13,
   "id": "a18e1856",
   "metadata": {},
   "outputs": [
    {
     "data": {
      "text/plain": [
       "37.21"
      ]
     },
     "execution_count": 13,
     "metadata": {},
     "output_type": "execute_result"
    }
   ],
   "source": [
    "second_lowest"
   ]
  },
  {
   "cell_type": "code",
   "execution_count": 14,
   "id": "1c1a57a3",
   "metadata": {},
   "outputs": [],
   "source": [
    "names = []\n",
    "for i in report:\n",
    "    if i[1]==second_lowest:\n",
    "        names.append(i[0])"
   ]
  },
  {
   "cell_type": "code",
   "execution_count": 16,
   "id": "bb5b89e1",
   "metadata": {
    "scrolled": true
   },
   "outputs": [
    {
     "name": "stdout",
     "output_type": "stream",
     "text": [
      "Berry\n",
      "Harry\n"
     ]
    }
   ],
   "source": [
    "for i in sorted(names):\n",
    "    print(i)"
   ]
  }
 ],
 "metadata": {
  "kernelspec": {
   "display_name": "Python 3 (ipykernel)",
   "language": "python",
   "name": "python3"
  },
  "language_info": {
   "codemirror_mode": {
    "name": "ipython",
    "version": 3
   },
   "file_extension": ".py",
   "mimetype": "text/x-python",
   "name": "python",
   "nbconvert_exporter": "python",
   "pygments_lexer": "ipython3",
   "version": "3.9.12"
  }
 },
 "nbformat": 4,
 "nbformat_minor": 5
}
