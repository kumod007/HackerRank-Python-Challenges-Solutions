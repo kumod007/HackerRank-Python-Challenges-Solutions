{
 "cells": [
  {
   "cell_type": "markdown",
   "id": "069952c2",
   "metadata": {},
   "source": [
    "<h1 style=\"font-family: Georgia, serif; text-align: center;\">Problem Statement</h1>\n"
   ]
  },
  {
   "cell_type": "markdown",
   "id": "764805b7",
   "metadata": {},
   "source": [
    "<img src=\"https://github.com/kumod007/HackerRank-Python-Challenges-Solutions/blob/main/Basic%20Data%20Types/Problem%20Statements/Finding-The-Percentage.png?raw=true\" alt=\"Image Description\">\n"
   ]
  },
  {
   "cell_type": "markdown",
   "id": "627d1f3d",
   "metadata": {},
   "source": [
    "---"
   ]
  },
  {
   "cell_type": "markdown",
   "id": "9323e196",
   "metadata": {},
   "source": [
    "## Solution: Using For Loop & Dictionary"
   ]
  },
  {
   "cell_type": "code",
   "execution_count": 4,
   "id": "63347847",
   "metadata": {},
   "outputs": [
    {
     "name": "stdout",
     "output_type": "stream",
     "text": [
      "3\n",
      "Krishna 67 68 69\n",
      "Arjun 70 98 63\n",
      "Malika 52 56 60\n",
      "Malika\n",
      "56.00\n"
     ]
    }
   ],
   "source": [
    "n = int(input())\n",
    "report = {}\n",
    "\n",
    "for i in range(n):\n",
    "    name,*mark = list(map(str,input().split()))\n",
    "    marks = list(map(float,mark))\n",
    "    report.update({name:marks})\n",
    "\n",
    "query_name = str(input())\n",
    "\n",
    "query_marks = 0\n",
    "\n",
    "for i in report.items():\n",
    "    if i[0]==query_name:\n",
    "        query_marks = sum(i[1])\n",
    "\n",
    "avg_marks = format(query_marks/3,\".2f\")    \n",
    "print(avg_marks)"
   ]
  },
  {
   "cell_type": "markdown",
   "id": "f8460dd3",
   "metadata": {},
   "source": [
    "---"
   ]
  }
 ],
 "metadata": {
  "kernelspec": {
   "display_name": "Python 3 (ipykernel)",
   "language": "python",
   "name": "python3"
  },
  "language_info": {
   "codemirror_mode": {
    "name": "ipython",
    "version": 3
   },
   "file_extension": ".py",
   "mimetype": "text/x-python",
   "name": "python",
   "nbconvert_exporter": "python",
   "pygments_lexer": "ipython3",
   "version": "3.9.12"
  }
 },
 "nbformat": 4,
 "nbformat_minor": 5
}
