{
 "cells": [
  {
   "cell_type": "markdown",
   "id": "5a427060",
   "metadata": {},
   "source": [
    "<h1 style=\"font-family: Georgia, serif; text-align: center;\">Problem Statement</h1>\n"
   ]
  },
  {
   "cell_type": "markdown",
   "id": "22af14ca",
   "metadata": {},
   "source": [
    "<img src=\"https://github.com/kumod007/HackerRank-Python-Challenges-Solutions/blob/main/Basic%20Data%20Types/Problem%20Statements/find-second-maximum-number-in-a-list.jpg?raw=true\" alt=\"Image Description\">\n"
   ]
  },
  {
   "cell_type": "markdown",
   "id": "0018cd0b",
   "metadata": {},
   "source": [
    "---"
   ]
  },
  {
   "cell_type": "markdown",
   "id": "ccbc25a7",
   "metadata": {},
   "source": [
    "### Solution 1: Using Set ,Sorting & Indexing Functions."
   ]
  },
  {
   "cell_type": "code",
   "execution_count": 20,
   "id": "51dbafc4",
   "metadata": {},
   "outputs": [
    {
     "name": "stdout",
     "output_type": "stream",
     "text": [
      "5\n",
      "2 3 6 6 5\n",
      "5\n"
     ]
    }
   ],
   "source": [
    "n = int(input())\n",
    "list1 = list(map(int,input().split()))\n",
    "\n",
    "list2 = sorted(list(set(list1)),reverse=True)\n",
    "\n",
    "print(list2[1])"
   ]
  },
  {
   "cell_type": "markdown",
   "id": "704f0898",
   "metadata": {},
   "source": [
    "---"
   ]
  },
  {
   "cell_type": "markdown",
   "id": "fa2a0627",
   "metadata": {},
   "source": [
    "### Solution 2: Using List Comphrehension."
   ]
  },
  {
   "cell_type": "code",
   "execution_count": 25,
   "id": "619b977d",
   "metadata": {},
   "outputs": [
    {
     "name": "stdout",
     "output_type": "stream",
     "text": [
      "5\n",
      "2 3 6 6 5\n",
      "5\n"
     ]
    }
   ],
   "source": [
    "n = int(input())\n",
    "list1 = list(map(int,input().split()))\n",
    "\n",
    "a = max(list1)\n",
    "list2 = [i for i in list1 if i!=a]\n",
    "\n",
    "print(max(list2))"
   ]
  },
  {
   "cell_type": "markdown",
   "id": "0d3c19b7",
   "metadata": {},
   "source": [
    "---"
   ]
  }
 ],
 "metadata": {
  "kernelspec": {
   "display_name": "Python 3 (ipykernel)",
   "language": "python",
   "name": "python3"
  },
  "language_info": {
   "codemirror_mode": {
    "name": "ipython",
    "version": 3
   },
   "file_extension": ".py",
   "mimetype": "text/x-python",
   "name": "python",
   "nbconvert_exporter": "python",
   "pygments_lexer": "ipython3",
   "version": "3.9.12"
  }
 },
 "nbformat": 4,
 "nbformat_minor": 5
}
