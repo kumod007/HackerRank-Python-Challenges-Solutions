{
 "cells": [
  {
   "cell_type": "markdown",
   "id": "45f37c80",
   "metadata": {},
   "source": [
    "<h1 style=\"font-family: Georgia, serif; text-align: center;\">Problem Statement</h1>\n"
   ]
  },
  {
   "cell_type": "markdown",
   "id": "6aa95b39",
   "metadata": {},
   "source": [
    "<img src=\"https://github.com/kumod007/HackerRank-Python-Challenges-Solutions/blob/main/Basic%20Data%20Types/Problem%20Statements/List%20Comphrehension.jpg?raw=true\" alt=\"Example Image\">\n"
   ]
  },
  {
   "cell_type": "markdown",
   "id": "862ae2ee",
   "metadata": {},
   "source": [
    "---"
   ]
  },
  {
   "cell_type": "markdown",
   "id": "f2c06292",
   "metadata": {},
   "source": [
    "### Solution 1: Using List Comphrehension."
   ]
  },
  {
   "cell_type": "code",
   "execution_count": 2,
   "id": "de751363",
   "metadata": {},
   "outputs": [
    {
     "name": "stdout",
     "output_type": "stream",
     "text": [
      "1\n",
      "1\n",
      "1\n",
      "2\n"
     ]
    }
   ],
   "source": [
    "x = int(input())\n",
    "y = int(input())\n",
    "z = int(input())\n",
    "n = int(input())\n",
    "\n",
    "combinations = [[i,j,k]  for i in range(x+1) for j in range(y+1) for k in range(z+1) if i+j+k!=n]"
   ]
  },
  {
   "cell_type": "code",
   "execution_count": 3,
   "id": "bb7eab08",
   "metadata": {},
   "outputs": [
    {
     "data": {
      "text/plain": [
       "[[0, 0, 0], [0, 0, 1], [0, 1, 0], [1, 0, 0], [1, 1, 1]]"
      ]
     },
     "execution_count": 3,
     "metadata": {},
     "output_type": "execute_result"
    }
   ],
   "source": [
    "combinations"
   ]
  },
  {
   "cell_type": "markdown",
   "id": "975a4635",
   "metadata": {},
   "source": [
    "---"
   ]
  },
  {
   "cell_type": "markdown",
   "id": "598805c4",
   "metadata": {},
   "source": [
    "### Solution 2: Using Nested For Loop."
   ]
  },
  {
   "cell_type": "code",
   "execution_count": 15,
   "id": "c7073eff",
   "metadata": {},
   "outputs": [
    {
     "name": "stdout",
     "output_type": "stream",
     "text": [
      "1\n",
      "1\n",
      "1\n",
      "2\n"
     ]
    }
   ],
   "source": [
    "x = int(input())\n",
    "y = int(input())\n",
    "z = int(input())\n",
    "n = int(input())\n",
    "\n",
    "combinations = []\n",
    "\n",
    "for i in range(x+1):\n",
    "    for j in range(y+1):\n",
    "        for k in range(z+1):\n",
    "            if (i+j+k)!=n:\n",
    "                combinations.append([i,j,k])"
   ]
  },
  {
   "cell_type": "code",
   "execution_count": 16,
   "id": "5248b0ca",
   "metadata": {},
   "outputs": [
    {
     "data": {
      "text/plain": [
       "[[0, 0, 0], [0, 0, 1], [0, 1, 0], [1, 0, 0], [1, 1, 1]]"
      ]
     },
     "execution_count": 16,
     "metadata": {},
     "output_type": "execute_result"
    }
   ],
   "source": [
    "combinations"
   ]
  },
  {
   "cell_type": "markdown",
   "id": "130be025",
   "metadata": {},
   "source": [
    "---"
   ]
  },
  {
   "cell_type": "markdown",
   "id": "e1486f22",
   "metadata": {},
   "source": [
    "### Solution 3: Using Nested While Loop."
   ]
  },
  {
   "cell_type": "code",
   "execution_count": 5,
   "id": "8d7ae8b5",
   "metadata": {},
   "outputs": [
    {
     "name": "stdout",
     "output_type": "stream",
     "text": [
      "1\n",
      "1\n",
      "1\n",
      "2\n"
     ]
    }
   ],
   "source": [
    "x = int(input())\n",
    "y = int(input())\n",
    "z = int(input())\n",
    "n = int(input())\n",
    "a = 0\n",
    "\n",
    "\n",
    "combinations = []\n",
    "\n",
    "while a<=x:\n",
    "    b = 0\n",
    "    while b<=y:\n",
    "        c = 0\n",
    "        while c<=z:\n",
    "            if (a+b+c)!=n:\n",
    "                combinations.append([a,b,c])\n",
    "            c+=1\n",
    "        b+=1\n",
    "    a+=1"
   ]
  },
  {
   "cell_type": "code",
   "execution_count": 6,
   "id": "09a4ccb0",
   "metadata": {},
   "outputs": [
    {
     "data": {
      "text/plain": [
       "[[0, 0, 0], [0, 0, 1], [0, 1, 0], [1, 0, 0], [1, 1, 1]]"
      ]
     },
     "execution_count": 6,
     "metadata": {},
     "output_type": "execute_result"
    }
   ],
   "source": [
    "combinations"
   ]
  },
  {
   "cell_type": "markdown",
   "id": "b40ca349",
   "metadata": {},
   "source": [
    "---"
   ]
  }
 ],
 "metadata": {
  "kernelspec": {
   "display_name": "Python 3 (ipykernel)",
   "language": "python",
   "name": "python3"
  },
  "language_info": {
   "codemirror_mode": {
    "name": "ipython",
    "version": 3
   },
   "file_extension": ".py",
   "mimetype": "text/x-python",
   "name": "python",
   "nbconvert_exporter": "python",
   "pygments_lexer": "ipython3",
   "version": "3.9.12"
  }
 },
 "nbformat": 4,
 "nbformat_minor": 5
}
